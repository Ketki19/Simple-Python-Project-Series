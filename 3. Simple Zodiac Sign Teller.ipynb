{
 "cells": [
  {
   "cell_type": "markdown",
   "metadata": {},
   "source": [
    "# Get Your Zodiac Sign and age based on user Input date!"
   ]
  },
  {
   "cell_type": "markdown",
   "metadata": {},
   "source": [
    "![image](https://user-images.githubusercontent.com/48029688/81603483-0b566e00-93ec-11ea-981f-e1e0534703da.png)"
   ]
  },
  {
   "cell_type": "code",
   "execution_count": 1,
   "metadata": {
    "ExecuteTime": {
     "end_time": "2020-05-11T19:23:36.553770Z",
     "start_time": "2020-05-11T19:23:36.440775Z"
    }
   },
   "outputs": [],
   "source": [
    "from datetime import date"
   ]
  },
  {
   "cell_type": "code",
   "execution_count": 2,
   "metadata": {
    "ExecuteTime": {
     "end_time": "2020-05-11T19:23:50.204750Z",
     "start_time": "2020-05-11T19:23:42.399004Z"
    }
   },
   "outputs": [
    {
     "name": "stdout",
     "output_type": "stream",
     "text": [
      "What's your year of birth? [ex: 1992]2000\n",
      "What's your month of birth? [ex: 10]05\n",
      "What's your day of birth? [ex: 25]17\n"
     ]
    }
   ],
   "source": [
    "Year = input(\"What's your year of birth? [ex: 1992]\" )\n",
    "Month = input(\"What's your month of birth? [ex: 10]\" )\n",
    "Day = input(\"What's your day of birth? [ex: 25]\" )"
   ]
  },
  {
   "cell_type": "code",
   "execution_count": 3,
   "metadata": {
    "ExecuteTime": {
     "end_time": "2020-05-11T19:23:54.422183Z",
     "start_time": "2020-05-11T19:23:54.399178Z"
    }
   },
   "outputs": [
    {
     "name": "stdout",
     "output_type": "stream",
     "text": [
      "Your Date of Birth is  17/05/2000\n"
     ]
    }
   ],
   "source": [
    "print('Your Date of Birth is ',(Day + \"/\" + Month + \"/\" + Year))"
   ]
  },
  {
   "cell_type": "code",
   "execution_count": 4,
   "metadata": {
    "ExecuteTime": {
     "end_time": "2020-05-11T19:24:02.019474Z",
     "start_time": "2020-05-11T19:24:02.014474Z"
    }
   },
   "outputs": [],
   "source": [
    "today_day = date.today()"
   ]
  },
  {
   "cell_type": "code",
   "execution_count": 5,
   "metadata": {
    "ExecuteTime": {
     "end_time": "2020-05-11T19:24:02.954004Z",
     "start_time": "2020-05-11T19:24:02.900001Z"
    }
   },
   "outputs": [
    {
     "data": {
      "text/plain": [
       "datetime.date(2020, 5, 12)"
      ]
     },
     "execution_count": 5,
     "metadata": {},
     "output_type": "execute_result"
    }
   ],
   "source": [
    "today_day"
   ]
  },
  {
   "cell_type": "code",
   "execution_count": 6,
   "metadata": {
    "ExecuteTime": {
     "end_time": "2020-05-11T19:24:09.072509Z",
     "start_time": "2020-05-11T19:24:09.064507Z"
    }
   },
   "outputs": [
    {
     "name": "stdout",
     "output_type": "stream",
     "text": [
      "You are 20 years old\n"
     ]
    }
   ],
   "source": [
    "age = today_day.year - int(Year)\n",
    "print('You are', age, 'years old')"
   ]
  },
  {
   "cell_type": "code",
   "execution_count": 7,
   "metadata": {
    "ExecuteTime": {
     "end_time": "2020-05-11T19:24:19.858783Z",
     "start_time": "2020-05-11T19:24:19.826780Z"
    }
   },
   "outputs": [
    {
     "name": "stdout",
     "output_type": "stream",
     "text": [
      "\n",
      " Taurus\n"
     ]
    }
   ],
   "source": [
    "if ((int(Month)==12 and int(Day) >= 22) or (int(Month)==1 and int(Day)<= 19)):\n",
    "    sign = (\"\\n Capricorn\")\n",
    "elif ((int(Month)==1 and int(Day) >= 20)or(int(Month)==2 and int(Day)<= 18)):\n",
    "    sign = (\"\\n aquarius\")\n",
    "elif ((int(Month)==2 and int(Day) >= 19)or(int(Month)==3 and int(Day)<= 20)):\n",
    "    sign = (\"\\n Pisces\")\n",
    "elif ((int(Month)==3 and int(Day) >= 21)or(int(Month)==4 and int(Day)<= 19)):\n",
    "    sign = (\"\\n Aries\")\n",
    "elif ((int(Month)==4 and int(Day) >= 20)or(int(Month)==5 and int(Day)<= 20)):\n",
    "    sign = (\"\\n Taurus\")\n",
    "elif ((int(Month)==5 and int(Day) >= 21)or(int(Month)==6 and int(Day)<= 20)):\n",
    "    sign = (\"\\n Gemini\")\n",
    "elif ((int(Month)==6 and int(Day) >= 21)or(int(Month)==7 and int(Day)<= 22)):\n",
    "    sign = (\"\\n Cancer\")\n",
    "elif ((int(Month)==7 and int(Day) >= 23)or(int(Month)==8 and int(Day)<= 22)): \n",
    "    sign = (\"\\n Leo\")\n",
    "elif ((int(Month)==8 and int(Day) >= 23)or(int(Month)==9 and int(Day)<= 22)): \n",
    "    sign = (\"\\n Virgo\")\n",
    "elif ((int(Month)==9 and int(Day) >= 23)or(int(Month)==10 and int(Day)<= 22)):\n",
    "    sign = (\"\\n Libra\")\n",
    "elif ((int(Month)==10 and int(Day) >= 23)or(int(Month)==11 and int(Day)<= 21)): \n",
    "    sign = (\"\\n Scorpio\")\n",
    "elif ((int(Month)==11 and int(Day) >= 22)or(int(Month)==12 and int(Day)<= 21)):\n",
    "    sign = (\"\\n Sagittarius\")\n",
    "\n",
    "print(sign)"
   ]
  },
  {
   "cell_type": "markdown",
   "metadata": {},
   "source": [
    "# Entire Code"
   ]
  },
  {
   "cell_type": "code",
   "execution_count": 8,
   "metadata": {
    "ExecuteTime": {
     "end_time": "2020-05-11T19:26:19.369124Z",
     "start_time": "2020-05-11T19:26:03.855401Z"
    }
   },
   "outputs": [
    {
     "name": "stdout",
     "output_type": "stream",
     "text": [
      "What's your year of birth? [ex: 1992]2000\n",
      "What's your month of birth? [ex: 10]10\n",
      "What's your day of birth? [ex: 25]19\n",
      "\n",
      " Libra\n"
     ]
    }
   ],
   "source": [
    "from datetime import date\n",
    "Year = input(\"What's your year of birth? [ex: 1992]\" )\n",
    "Month = input(\"What's your month of birth? [ex: 10]\" )\n",
    "Day = input(\"What's your day of birth? [ex: 25]\" )\n",
    "today_day = date.today()\n",
    "age = today_day.year - int(Year)\n",
    "if ((int(Month)==12 and int(Day) >= 22) or (int(Month)==1 and int(Day)<= 19)):\n",
    "    sign = (\"\\n Capricorn\")\n",
    "elif ((int(Month)==1 and int(Day) >= 20)or(int(Month)==2 and int(Day)<= 18)):\n",
    "    sign = (\"\\n aquarius\")\n",
    "elif ((int(Month)==2 and int(Day) >= 19)or(int(Month)==3 and int(Day)<= 20)):\n",
    "    sign = (\"\\n Pisces\")\n",
    "elif ((int(Month)==3 and int(Day) >= 21)or(int(Month)==4 and int(Day)<= 19)):\n",
    "    sign = (\"\\n Aries\")\n",
    "elif ((int(Month)==4 and int(Day) >= 20)or(int(Month)==5 and int(Day)<= 20)):\n",
    "    sign = (\"\\n Taurus\")\n",
    "elif ((int(Month)==5 and int(Day) >= 21)or(int(Month)==6 and int(Day)<= 20)):\n",
    "    sign = (\"\\n Gemini\")\n",
    "elif ((int(Month)==6 and int(Day) >= 21)or(int(Month)==7 and int(Day)<= 22)):\n",
    "    sign = (\"\\n Cancer\")\n",
    "elif ((int(Month)==7 and int(Day) >= 23)or(int(Month)==8 and int(Day)<= 22)): \n",
    "    sign = (\"\\n Leo\")\n",
    "elif ((int(Month)==8 and int(Day) >= 23)or(int(Month)==9 and int(Day)<= 22)): \n",
    "    sign = (\"\\n Virgo\")\n",
    "elif ((int(Month)==9 and int(Day) >= 23)or(int(Month)==10 and int(Day)<= 22)):\n",
    "    sign = (\"\\n Libra\")\n",
    "elif ((int(Month)==10 and int(Day) >= 23)or(int(Month)==11 and int(Day)<= 21)): \n",
    "    sign = (\"\\n Scorpio\")\n",
    "elif ((int(Month)==11 and int(Day) >= 22)or(int(Month)==12 and int(Day)<= 21)):\n",
    "    sign = (\"\\n Sagittarius\")\n",
    "\n",
    "print(sign)"
   ]
  },
  {
   "cell_type": "code",
   "execution_count": null,
   "metadata": {},
   "outputs": [],
   "source": []
  }
 ],
 "metadata": {
  "kernelspec": {
   "display_name": "Python 3",
   "language": "python",
   "name": "python3"
  },
  "language_info": {
   "codemirror_mode": {
    "name": "ipython",
    "version": 3
   },
   "file_extension": ".py",
   "mimetype": "text/x-python",
   "name": "python",
   "nbconvert_exporter": "python",
   "pygments_lexer": "ipython3",
   "version": "3.7.4"
  },
  "toc": {
   "base_numbering": 1,
   "nav_menu": {},
   "number_sections": false,
   "sideBar": true,
   "skip_h1_title": false,
   "title_cell": "Table of Contents",
   "title_sidebar": "Contents",
   "toc_cell": false,
   "toc_position": {},
   "toc_section_display": true,
   "toc_window_display": false
  }
 },
 "nbformat": 4,
 "nbformat_minor": 2
}
