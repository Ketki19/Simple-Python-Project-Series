{
 "cells": [
  {
   "cell_type": "code",
   "execution_count": 8,
   "metadata": {
    "ExecuteTime": {
     "end_time": "2020-05-12T15:05:04.717738Z",
     "start_time": "2020-05-12T15:04:43.318665Z"
    }
   },
   "outputs": [
    {
     "name": "stdout",
     "output_type": "stream",
     "text": [
      "Requirement already satisfied: pyttsx3 in c:\\users\\admin\\anaconda3\\lib\\site-packages (2.87)\n",
      "Requirement already satisfied: comtypes; platform_system == \"Windows\" in c:\\users\\admin\\anaconda3\\lib\\site-packages (from pyttsx3) (1.1.7)\n"
     ]
    }
   ],
   "source": [
    "!pip install pyttsx3"
   ]
  },
  {
   "cell_type": "code",
   "execution_count": 9,
   "metadata": {
    "ExecuteTime": {
     "end_time": "2020-05-12T15:05:11.441198Z",
     "start_time": "2020-05-12T15:05:04.722867Z"
    }
   },
   "outputs": [
    {
     "name": "stdout",
     "output_type": "stream",
     "text": [
      "Welcome to Text to Speech\n"
     ]
    }
   ],
   "source": [
    "import pyttsx3\n",
    "\n",
    "def text_to_speech(user_text):\n",
    "    \"\"\"\n",
    "    Parameters:\n",
    "    user_text (str): string message to be converted to audio and output using speakers available\n",
    "    \"\"\"\n",
    "    try:\n",
    "        engine = pyttsx3.init()\n",
    "        engine.say(user_text)\n",
    "        engine.runAndWait()\n",
    "    except:\n",
    "        print(\"ERROR: unknown error in text to speech\")\n",
    "\n",
    "if __name__ == \"__main__\":\n",
    "    print('Welcome to Text to Speech')\n",
    "    text_to_speech('This is the demo to Python Text to Speech')\n",
    "    text_to_speech('Pretty exciting isnt it?')\n",
    "    text_to_speech('Welcome')"
   ]
  }
 ],
 "metadata": {
  "kernelspec": {
   "display_name": "Python 3",
   "language": "python",
   "name": "python3"
  },
  "language_info": {
   "codemirror_mode": {
    "name": "ipython",
    "version": 3
   },
   "file_extension": ".py",
   "mimetype": "text/x-python",
   "name": "python",
   "nbconvert_exporter": "python",
   "pygments_lexer": "ipython3",
   "version": "3.7.4"
  },
  "toc": {
   "base_numbering": 1,
   "nav_menu": {},
   "number_sections": true,
   "sideBar": true,
   "skip_h1_title": false,
   "title_cell": "Table of Contents",
   "title_sidebar": "Contents",
   "toc_cell": false,
   "toc_position": {},
   "toc_section_display": true,
   "toc_window_display": false
  }
 },
 "nbformat": 4,
 "nbformat_minor": 2
}
