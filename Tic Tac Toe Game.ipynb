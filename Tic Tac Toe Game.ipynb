{
 "cells": [
  {
   "cell_type": "markdown",
   "metadata": {},
   "source": [
    "## Tic Tac Toe Game"
   ]
  },
  {
   "cell_type": "code",
   "execution_count": 1,
   "metadata": {
    "ExecuteTime": {
     "end_time": "2020-05-25T09:50:51.191217Z",
     "start_time": "2020-05-25T09:50:50.864644Z"
    },
    "scrolled": true
   },
   "outputs": [],
   "source": [
    "board = [0, 1, 2, \n",
    "         3, 4, 5, \n",
    "         6, 7, 8]\n",
    "   "
   ]
  },
  {
   "cell_type": "code",
   "execution_count": 2,
   "metadata": {
    "ExecuteTime": {
     "end_time": "2020-05-25T09:50:53.747668Z",
     "start_time": "2020-05-25T09:50:51.723802Z"
    }
   },
   "outputs": [
    {
     "data": {
      "text/plain": [
       "list"
      ]
     },
     "execution_count": 2,
     "metadata": {},
     "output_type": "execute_result"
    }
   ],
   "source": [
    "type(board)"
   ]
  },
  {
   "cell_type": "code",
   "execution_count": 3,
   "metadata": {
    "ExecuteTime": {
     "end_time": "2020-05-25T09:50:53.761727Z",
     "start_time": "2020-05-25T09:50:53.752672Z"
    }
   },
   "outputs": [],
   "source": [
    "def TicTacToe_draw():\n",
    "    print(board[0], board[1], board[2])\n",
    "    print(board[3], board[4], board[5])\n",
    "    print(board[6], board[7], board[8])\n",
    "    print()\n"
   ]
  },
  {
   "cell_type": "code",
   "execution_count": 4,
   "metadata": {
    "ExecuteTime": {
     "end_time": "2020-05-25T09:50:54.015214Z",
     "start_time": "2020-05-25T09:50:53.774669Z"
    }
   },
   "outputs": [
    {
     "name": "stdout",
     "output_type": "stream",
     "text": [
      "0 1 2\n",
      "3 4 5\n",
      "6 7 8\n",
      "\n"
     ]
    }
   ],
   "source": [
    "TicTacToe_draw()"
   ]
  },
  {
   "cell_type": "markdown",
   "metadata": {},
   "source": [
    "## Player #1 Input"
   ]
  },
  {
   "cell_type": "code",
   "execution_count": 5,
   "metadata": {
    "ExecuteTime": {
     "end_time": "2020-05-25T09:50:56.629730Z",
     "start_time": "2020-05-25T09:50:56.620719Z"
    }
   },
   "outputs": [],
   "source": [
    "def Player_1():\n",
    "    print(\"Player#1, Enter your desired board location: \")\n",
    "    location = int(input())   \n",
    "    if board[location] != 'X' and board[location] != 'O':\n",
    "        board[location] = 'X'\n",
    "    else:\n",
    "        print('This spot is taken, please choose somewhere else')"
   ]
  },
  {
   "cell_type": "code",
   "execution_count": 6,
   "metadata": {
    "ExecuteTime": {
     "end_time": "2020-05-25T09:50:57.892218Z",
     "start_time": "2020-05-25T09:50:57.294994Z"
    }
   },
   "outputs": [
    {
     "name": "stdout",
     "output_type": "stream",
     "text": [
      "0 1 2\n",
      "3 4 5\n",
      "6 7 8\n",
      "\n"
     ]
    }
   ],
   "source": [
    "TicTacToe_draw()"
   ]
  },
  {
   "cell_type": "code",
   "execution_count": 7,
   "metadata": {
    "ExecuteTime": {
     "end_time": "2020-05-25T09:51:01.994865Z",
     "start_time": "2020-05-25T09:50:58.376987Z"
    }
   },
   "outputs": [
    {
     "name": "stdout",
     "output_type": "stream",
     "text": [
      "Player#1, Enter your desired board location: \n",
      "2\n",
      "0 1 X\n",
      "3 4 5\n",
      "6 7 8\n",
      "\n"
     ]
    }
   ],
   "source": [
    "Player_1()\n",
    "TicTacToe_draw()"
   ]
  },
  {
   "cell_type": "markdown",
   "metadata": {},
   "source": [
    "## Computer (Player #2) Input"
   ]
  },
  {
   "cell_type": "code",
   "execution_count": 8,
   "metadata": {
    "ExecuteTime": {
     "end_time": "2020-05-25T09:51:05.001191Z",
     "start_time": "2020-05-25T09:51:04.982253Z"
    }
   },
   "outputs": [],
   "source": [
    "def Player_2():\n",
    "    print(\"Player#2, Enter your desired board location: \")\n",
    "    location = int(input()) \n",
    "    if board[location] != 'X' and board[location] != 'O':\n",
    "        board[location] = 'O'\n",
    "    else:\n",
    "        print('This spot is taken, please choose somewhere else')"
   ]
  },
  {
   "cell_type": "code",
   "execution_count": 9,
   "metadata": {
    "ExecuteTime": {
     "end_time": "2020-05-25T09:51:08.785391Z",
     "start_time": "2020-05-25T09:51:05.642557Z"
    }
   },
   "outputs": [
    {
     "name": "stdout",
     "output_type": "stream",
     "text": [
      "Player#2, Enter your desired board location: \n",
      "1\n",
      "0 O X\n",
      "3 4 5\n",
      "6 7 8\n",
      "\n"
     ]
    }
   ],
   "source": [
    "Player_2()\n",
    "TicTacToe_draw()"
   ]
  },
  {
   "cell_type": "markdown",
   "metadata": {},
   "source": [
    "## Check if any player wins!"
   ]
  },
  {
   "cell_type": "code",
   "execution_count": 10,
   "metadata": {
    "ExecuteTime": {
     "end_time": "2020-05-25T09:51:11.932697Z",
     "start_time": "2020-05-25T09:51:11.858305Z"
    }
   },
   "outputs": [],
   "source": [
    "def Check_Winner(X_or_O):\n",
    "    if board[0] == X_or_O and board[1] == X_or_O and board[2] == X_or_O:\n",
    "        return True\n",
    "    if board[3] == X_or_O and board[4] == X_or_O and board[5] == X_or_O:\n",
    "        return True\n",
    "    if board[6] == X_or_O and board[7] == X_or_O and board[8] == X_or_O:\n",
    "        return True\n",
    "    if board[0] == X_or_O and board[3] == X_or_O and board[6] == X_or_O:\n",
    "        return True\n",
    "    if board[1] == X_or_O and board[4] == X_or_O and board[7] == X_or_O:\n",
    "        return True\n",
    "    if board[2] == X_or_O and board[5] == X_or_O and board[8] == X_or_O:\n",
    "        return True\n",
    "    \n",
    "    # Diagonal terms\n",
    "    if board[0] == X_or_O and board[4] == X_or_O and board[8] == X_or_O:\n",
    "        return True\n",
    "    if board[2] == X_or_O and board[4] == X_or_O and board[6] == X_or_O:\n",
    "        return True"
   ]
  },
  {
   "cell_type": "markdown",
   "metadata": {},
   "source": [
    "## Let's put it all together"
   ]
  },
  {
   "cell_type": "code",
   "execution_count": 11,
   "metadata": {
    "ExecuteTime": {
     "end_time": "2020-05-25T09:51:34.115677Z",
     "start_time": "2020-05-25T09:51:14.261628Z"
    }
   },
   "outputs": [
    {
     "name": "stdout",
     "output_type": "stream",
     "text": [
      "Player#1, Enter your desired board location: \n",
      "1\n",
      "This spot is taken, please choose somewhere else\n",
      "0 O X\n",
      "3 4 5\n",
      "6 7 8\n",
      "\n",
      "Player#2, Enter your desired board location: \n",
      "4\n",
      "0 O X\n",
      "3 O 5\n",
      "6 7 8\n",
      "\n",
      "Player#1, Enter your desired board location: \n",
      "7\n",
      "0 O X\n",
      "3 O 5\n",
      "6 X 8\n",
      "\n",
      "Player#2, Enter your desired board location: \n",
      "3\n",
      "0 O X\n",
      "O O 5\n",
      "6 X 8\n",
      "\n",
      "Player#1, Enter your desired board location: \n",
      "8\n",
      "0 O X\n",
      "O O 5\n",
      "6 X X\n",
      "\n",
      "Player#2, Enter your desired board location: \n",
      "5\n",
      "0 O X\n",
      "O O O\n",
      "6 X X\n",
      "\n",
      "Player #2 Wins\n"
     ]
    }
   ],
   "source": [
    "while True:\n",
    "    Player_1()\n",
    "    TicTacToe_draw()\n",
    "    if Check_Winner('X')==True:\n",
    "        print(\"Player #1 Wins\")\n",
    "        break;\n",
    "        \n",
    "    Player_2()\n",
    "    TicTacToe_draw()\n",
    "    if Check_Winner('O')==True:\n",
    "        print(\"Player #2 Wins\")\n",
    "        break;\n",
    "    "
   ]
  },
  {
   "cell_type": "code",
   "execution_count": 12,
   "metadata": {
    "ExecuteTime": {
     "end_time": "2020-05-25T09:51:53.795158Z",
     "start_time": "2020-05-25T09:51:42.604782Z"
    }
   },
   "outputs": [
    {
     "name": "stdout",
     "output_type": "stream",
     "text": [
      "Player#1, Enter your desired board location: \n",
      "0\n",
      "X 1 2\n",
      "3 4 5\n",
      "6 7 8\n",
      "\n",
      "Player#2, Enter your desired board location: \n",
      "1\n",
      "X O 2\n",
      "3 4 5\n",
      "6 7 8\n",
      "\n",
      "Player#1, Enter your desired board location: \n",
      "2\n",
      "X O X\n",
      "3 4 5\n",
      "6 7 8\n",
      "\n",
      "Player#2, Enter your desired board location: \n",
      "3\n",
      "X O X\n",
      "O 4 5\n",
      "6 7 8\n",
      "\n",
      "Player#1, Enter your desired board location: \n",
      "4\n",
      "X O X\n",
      "O X 5\n",
      "6 7 8\n",
      "\n",
      "Player#2, Enter your desired board location: \n",
      "5\n",
      "X O X\n",
      "O X O\n",
      "6 7 8\n",
      "\n",
      "Player#1, Enter your desired board location: \n",
      "6\n",
      "X O X\n",
      "O X O\n",
      "X 7 8\n",
      "\n",
      "Player #1 Wins\n"
     ]
    }
   ],
   "source": [
    "board = [0, 1, 2, 3, 4, 5, 6, 7, 8]\n",
    "def TicTacToe_draw():\n",
    "    print(board[0], board[1], board[2])\n",
    "    print(board[3], board[4], board[5])\n",
    "    print(board[6], board[7], board[8])\n",
    "    print()\n",
    "def Player_1():\n",
    "    print(\"Player#1, Enter your desired board location: \")\n",
    "    location = int(input())   \n",
    "    if board[location] != 'X' and board[location] != 'O':\n",
    "        board[location] = 'X'\n",
    "    else:\n",
    "        print('This spot is taken, please choose somewhere else')\n",
    "def Player_2():\n",
    "    print(\"Player#2, Enter your desired board location: \")\n",
    "    location = int(input()) \n",
    "    if board[location] != 'X' and board[location] != 'O':\n",
    "        board[location] = 'O'\n",
    "    else:\n",
    "        print('This spot is taken, please choose somewhere else')\n",
    "def Check_Winner(X_or_O):\n",
    "    if board[0] == X_or_O and board[1] == X_or_O and board[2] == X_or_O:\n",
    "        return True\n",
    "    if board[3] == X_or_O and board[4] == X_or_O and board[5] == X_or_O:\n",
    "        return True\n",
    "    if board[6] == X_or_O and board[7] == X_or_O and board[8] == X_or_O:\n",
    "        return True\n",
    "    if board[0] == X_or_O and board[3] == X_or_O and board[6] == X_or_O:\n",
    "        return True\n",
    "    if board[1] == X_or_O and board[4] == X_or_O and board[7] == X_or_O:\n",
    "        return True\n",
    "    if board[2] == X_or_O and board[5] == X_or_O and board[8] == X_or_O:\n",
    "        return True  \n",
    "    if board[0] == X_or_O and board[4] == X_or_O and board[8] == X_or_O:\n",
    "        return True\n",
    "    if board[2] == X_or_O and board[4] == X_or_O and board[6] == X_or_O:\n",
    "        return True\n",
    "while True:\n",
    "    Player_1()\n",
    "    TicTacToe_draw()\n",
    "    if Check_Winner('X')==True:\n",
    "        print(\"Player #1 Wins\")\n",
    "        break;\n",
    "    Player_2()\n",
    "    TicTacToe_draw()\n",
    "    if Check_Winner('O')==True:\n",
    "        print(\"Player #2 Wins\")\n",
    "        break;"
   ]
  },
  {
   "cell_type": "code",
   "execution_count": null,
   "metadata": {},
   "outputs": [],
   "source": []
  }
 ],
 "metadata": {
  "kernelspec": {
   "display_name": "Python 3",
   "language": "python",
   "name": "python3"
  },
  "language_info": {
   "codemirror_mode": {
    "name": "ipython",
    "version": 3
   },
   "file_extension": ".py",
   "mimetype": "text/x-python",
   "name": "python",
   "nbconvert_exporter": "python",
   "pygments_lexer": "ipython3",
   "version": "3.7.4"
  },
  "toc": {
   "base_numbering": 1,
   "nav_menu": {},
   "number_sections": false,
   "sideBar": true,
   "skip_h1_title": false,
   "title_cell": "Table of Contents",
   "title_sidebar": "Contents",
   "toc_cell": false,
   "toc_position": {},
   "toc_section_display": true,
   "toc_window_display": false
  }
 },
 "nbformat": 4,
 "nbformat_minor": 2
}
