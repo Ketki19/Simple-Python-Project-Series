{
 "cells": [
  {
   "cell_type": "code",
   "execution_count": null,
   "metadata": {},
   "outputs": [],
   "source": [
    "# !pip install tkinter"
   ]
  },
  {
   "cell_type": "code",
   "execution_count": 4,
   "metadata": {
    "ExecuteTime": {
     "end_time": "2020-05-12T14:34:09.833145Z",
     "start_time": "2020-05-12T14:34:09.826885Z"
    }
   },
   "outputs": [],
   "source": [
    "# !pip install pyttsx3"
   ]
  },
  {
   "cell_type": "code",
   "execution_count": null,
   "metadata": {},
   "outputs": [],
   "source": [
    "# Import Libraries\n",
    "import tkinter as tk\n",
    "import pyttsx3"
   ]
  },
  {
   "cell_type": "code",
   "execution_count": null,
   "metadata": {},
   "outputs": [],
   "source": [
    "# Define Counter\n",
    "counter = 0 "
   ]
  },
  {
   "cell_type": "code",
   "execution_count": null,
   "metadata": {},
   "outputs": [],
   "source": [
    "# Text to speech function\n",
    "def text_to_speech(user_text):\n",
    "    \"\"\"\n",
    "    Parameters:\n",
    "    user_text (str): string message to be converted to audio and output using speakers available\n",
    "    \"\"\"\n",
    "\n",
    "    engine = pyttsx3.init()\n",
    "    engine.say(user_text)\n",
    "    engine.runAndWait()"
   ]
  },
  {
   "cell_type": "code",
   "execution_count": 6,
   "metadata": {
    "ExecuteTime": {
     "end_time": "2020-05-12T15:20:52.682108Z",
     "start_time": "2020-05-12T15:20:52.671104Z"
    }
   },
   "outputs": [],
   "source": [
    "# Clock counter\n",
    "def counter_label(label):\n",
    "  def count():\n",
    "    global counter\n",
    "    text_to_speech(counter)\n",
    "    counter += 1\n",
    "    label.config(text=str(counter))\n",
    "    label.after(500, count)\n",
    "  count()"
   ]
  },
  {
   "cell_type": "code",
   "execution_count": 7,
   "metadata": {
    "ExecuteTime": {
     "end_time": "2020-05-12T15:49:03.548333Z",
     "start_time": "2020-05-12T15:48:36.326941Z"
    }
   },
   "outputs": [],
   "source": [
    "# Tkinter window\n",
    "root = tk.Tk()\n",
    "root.title(\"Counting Seconds\")\n",
    "label = tk.Label(root, fg=\"green\")\n",
    "label.pack()\n",
    "counter_label(label)\n",
    "button = tk.Button(root, text='Stop', width=25, command=root.destroy)\n",
    "button.pack()\n",
    "root.mainloop()"
   ]
  },
  {
   "cell_type": "markdown",
   "metadata": {},
   "source": [
    "# Entire Code"
   ]
  },
  {
   "cell_type": "code",
   "execution_count": 8,
   "metadata": {
    "ExecuteTime": {
     "end_time": "2020-05-12T15:51:13.356552Z",
     "start_time": "2020-05-12T15:51:00.639485Z"
    }
   },
   "outputs": [],
   "source": [
    "import tkinter as tk\n",
    "import pyttsx3\n",
    "\n",
    "counter = 0 \n",
    "\n",
    "def text_to_speech(user_text):\n",
    "    \"\"\"\n",
    "    Parameters:\n",
    "    user_text (str): string message to be converted to audio and output using speakers available\n",
    "    \"\"\"\n",
    "    engine = pyttsx3.init()\n",
    "    engine.say(user_text)\n",
    "    engine.runAndWait()\n",
    "        \n",
    "def counter_label(label):\n",
    "  def count():\n",
    "    global counter\n",
    "    text_to_speech(counter)\n",
    "    counter += 1\n",
    "    label.config(text=str(counter))\n",
    "    label.after(500, count)\n",
    "  count()\n",
    " \n",
    "root = tk.Tk()\n",
    "root.title(\"Counting Seconds\")\n",
    "label = tk.Label(root, fg=\"green\")\n",
    "label.pack()\n",
    "counter_label(label)\n",
    "button = tk.Button(root, text='Stop', width=25, command=root.destroy)\n",
    "button.pack()\n",
    "root.mainloop()"
   ]
  },
  {
   "cell_type": "code",
   "execution_count": null,
   "metadata": {},
   "outputs": [],
   "source": []
  }
 ],
 "metadata": {
  "kernelspec": {
   "display_name": "Python 3",
   "language": "python",
   "name": "python3"
  },
  "language_info": {
   "codemirror_mode": {
    "name": "ipython",
    "version": 3
   },
   "file_extension": ".py",
   "mimetype": "text/x-python",
   "name": "python",
   "nbconvert_exporter": "python",
   "pygments_lexer": "ipython3",
   "version": "3.7.4"
  },
  "toc": {
   "base_numbering": 1,
   "nav_menu": {},
   "number_sections": false,
   "sideBar": true,
   "skip_h1_title": false,
   "title_cell": "Table of Contents",
   "title_sidebar": "Contents",
   "toc_cell": false,
   "toc_position": {},
   "toc_section_display": true,
   "toc_window_display": false
  }
 },
 "nbformat": 4,
 "nbformat_minor": 2
}
