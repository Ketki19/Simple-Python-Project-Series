{
 "cells": [
  {
   "cell_type": "markdown",
   "metadata": {},
   "source": [
    "## Create a Guessing Game"
   ]
  },
  {
   "cell_type": "code",
   "execution_count": 1,
   "metadata": {
    "ExecuteTime": {
     "end_time": "2020-05-11T16:12:46.092728Z",
     "start_time": "2020-05-11T16:12:46.087201Z"
    }
   },
   "outputs": [],
   "source": [
    "import random"
   ]
  },
  {
   "cell_type": "code",
   "execution_count": 2,
   "metadata": {
    "ExecuteTime": {
     "end_time": "2020-05-11T16:12:47.201740Z",
     "start_time": "2020-05-11T16:12:47.197620Z"
    }
   },
   "outputs": [],
   "source": [
    "true_number = random.randint(1, 51)"
   ]
  },
  {
   "cell_type": "code",
   "execution_count": 3,
   "metadata": {
    "ExecuteTime": {
     "end_time": "2020-05-11T16:12:48.937671Z",
     "start_time": "2020-05-11T16:12:48.928603Z"
    }
   },
   "outputs": [
    {
     "name": "stdout",
     "output_type": "stream",
     "text": [
      "29\n"
     ]
    }
   ],
   "source": [
    "print(true_number)"
   ]
  },
  {
   "cell_type": "code",
   "execution_count": 8,
   "metadata": {
    "ExecuteTime": {
     "end_time": "2020-05-11T16:14:48.983941Z",
     "start_time": "2020-05-11T16:14:45.390908Z"
    }
   },
   "outputs": [
    {
     "name": "stdout",
     "output_type": "stream",
     "text": [
      "Enter your guess between 1 and 50: 40\n"
     ]
    }
   ],
   "source": [
    "guess_number = int(input(\"Enter your guess between 1 and 50: \"))"
   ]
  },
  {
   "cell_type": "code",
   "execution_count": 9,
   "metadata": {
    "ExecuteTime": {
     "end_time": "2020-05-11T16:14:49.857964Z",
     "start_time": "2020-05-11T16:14:49.851989Z"
    }
   },
   "outputs": [
    {
     "name": "stdout",
     "output_type": "stream",
     "text": [
      "40\n"
     ]
    }
   ],
   "source": [
    "print(guess_number)"
   ]
  },
  {
   "cell_type": "code",
   "execution_count": 6,
   "metadata": {
    "ExecuteTime": {
     "end_time": "2020-05-11T16:13:30.172608Z",
     "start_time": "2020-05-11T16:13:03.455576Z"
    }
   },
   "outputs": [
    {
     "name": "stdout",
     "output_type": "stream",
     "text": [
      "YOUR GUESS IS HIGH, TRY AGAIN\n",
      "Enter an integer from 1 and 50: 10\n",
      "YOUR GUESS IS LOW, TRY AGAIN\n",
      "Enter your guess between 1 and 50: 40\n",
      "YOUR GUESS IS HIGH, TRY AGAIN\n",
      "Enter an integer from 1 and 50: 20\n",
      "YOUR GUESS IS LOW, TRY AGAIN\n",
      "Enter your guess between 1 and 50: 30\n",
      "YOUR GUESS IS HIGH, TRY AGAIN\n",
      "Enter an integer from 1 and 50: 28\n",
      "YOUR GUESS IS LOW, TRY AGAIN\n",
      "Enter your guess between 1 and 50: 29\n",
      "YOU ARE RIGHT! GOOD JOB!\n"
     ]
    }
   ],
   "source": [
    "while True:\n",
    "    if guess_number == true_number:\n",
    "        print('YOU ARE RIGHT! GOOD JOB!')\n",
    "        break\n",
    "    \n",
    "    elif guess_number < true_number:\n",
    "        print('YOUR GUESS IS LOW, TRY AGAIN')\n",
    "        guess_number = int(input(\"Enter your guess between 1 and 50: \"))\n",
    "              \n",
    "    elif guess_number > true_number:\n",
    "        print('YOUR GUESS IS HIGH, TRY AGAIN')\n",
    "        guess_number = int(input(\"Enter an integer from 1 and 50: \"))\n",
    "  "
   ]
  },
  {
   "cell_type": "markdown",
   "metadata": {},
   "source": [
    "# Entire Code"
   ]
  },
  {
   "cell_type": "code",
   "execution_count": 10,
   "metadata": {
    "ExecuteTime": {
     "end_time": "2020-05-11T16:26:04.963822Z",
     "start_time": "2020-05-11T16:25:51.341377Z"
    }
   },
   "outputs": [
    {
     "name": "stdout",
     "output_type": "stream",
     "text": [
      "Enter your guess between 1 and 50: 30\n",
      "YOUR GUESS IS HIGH, TRY AGAIN\n",
      "Enter an integer from 1 and 50: 10\n",
      "YOUR GUESS IS LOW, TRY AGAIN\n",
      "Enter your guess between 1 and 50: 20\n",
      "YOUR GUESS IS HIGH, TRY AGAIN\n",
      "Enter an integer from 1 and 50: 15\n",
      "YOUR GUESS IS HIGH, TRY AGAIN\n",
      "Enter an integer from 1 and 50: 13\n",
      "YOU ARE RIGHT! GOOD JOB!\n"
     ]
    }
   ],
   "source": [
    "import random\n",
    "true_number = random.randint(1, 51)\n",
    "guess_number = int(input(\"Enter your guess between 1 and 50: \"))\n",
    "while True:\n",
    "    if guess_number == true_number:\n",
    "        print('YOU ARE RIGHT! GOOD JOB!')\n",
    "        break\n",
    "    \n",
    "    elif guess_number < true_number:\n",
    "        print('YOUR GUESS IS LOW, TRY AGAIN')\n",
    "        guess_number = int(input(\"Enter your guess between 1 and 50: \"))\n",
    "              \n",
    "    elif guess_number > true_number:\n",
    "        print('YOUR GUESS IS HIGH, TRY AGAIN')\n",
    "        guess_number = int(input(\"Enter an integer from 1 and 50: \"))"
   ]
  },
  {
   "cell_type": "code",
   "execution_count": null,
   "metadata": {},
   "outputs": [],
   "source": []
  }
 ],
 "metadata": {
  "kernelspec": {
   "display_name": "Python 3",
   "language": "python",
   "name": "python3"
  },
  "language_info": {
   "codemirror_mode": {
    "name": "ipython",
    "version": 3
   },
   "file_extension": ".py",
   "mimetype": "text/x-python",
   "name": "python",
   "nbconvert_exporter": "python",
   "pygments_lexer": "ipython3",
   "version": "3.7.4"
  },
  "toc": {
   "base_numbering": 1,
   "nav_menu": {},
   "number_sections": false,
   "sideBar": true,
   "skip_h1_title": false,
   "title_cell": "Table of Contents",
   "title_sidebar": "Contents",
   "toc_cell": false,
   "toc_position": {},
   "toc_section_display": true,
   "toc_window_display": false
  }
 },
 "nbformat": 4,
 "nbformat_minor": 2
}
