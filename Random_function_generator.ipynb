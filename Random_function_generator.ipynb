{
 "cells": [
  {
   "cell_type": "markdown",
   "metadata": {},
   "source": [
    "# Random Function Generator"
   ]
  },
  {
   "cell_type": "code",
   "execution_count": 1,
   "metadata": {
    "ExecuteTime": {
     "end_time": "2020-05-28T14:05:46.712402Z",
     "start_time": "2020-05-28T14:05:33.591866Z"
    }
   },
   "outputs": [],
   "source": [
    "import numpy as np\n",
    "import pandas as pd\n",
    "import matplotlib.pyplot as plt"
   ]
  },
  {
   "cell_type": "code",
   "execution_count": 2,
   "metadata": {
    "ExecuteTime": {
     "end_time": "2020-05-28T14:05:46.792331Z",
     "start_time": "2020-05-28T14:05:46.732341Z"
    }
   },
   "outputs": [],
   "source": [
    "def random_binning(N, d,return_string=False):\n",
    "    \"\"\"\n",
    "    Function to distribute a sum total of N into d bins\n",
    "    Returns a list\n",
    "    \"\"\"\n",
    "    import numpy as np\n",
    "    \n",
    "    count=N\n",
    "    sum_count=0\n",
    "    lst=[]\n",
    "    for i in range(d-1):\n",
    "        x=np.random.randint(0,count+1)\n",
    "        if return_string:\n",
    "            lst.append(str(x))\n",
    "        else:\n",
    "            lst.append(x)\n",
    "        count=count-x\n",
    "        sum_count+=x\n",
    "        \n",
    "    if return_string:\n",
    "        lst.append(str(N-sum_count))\n",
    "    else:\n",
    "        lst.append(N-sum_count)\n",
    "    return lst"
   ]
  },
  {
   "cell_type": "markdown",
   "metadata": {},
   "source": [
    "### Function to generate single term from a list of exponents. E.g. if we pass 1,2,0,3 it will generate: $x_1.x_2^2.x_4^3$"
   ]
  },
  {
   "cell_type": "code",
   "execution_count": 3,
   "metadata": {
    "ExecuteTime": {
     "end_time": "2020-05-28T14:05:46.990398Z",
     "start_time": "2020-05-28T14:05:46.821591Z"
    }
   },
   "outputs": [],
   "source": [
    "def gen_single_term(lst):\n",
    "    \"\"\"\n",
    "    Function to generate single term from a list of exponents.\n",
    "    \"\"\"\n",
    "    term=''\n",
    "    for i in range(1,len(lst)+1):\n",
    "        if lst[i-1]==0:\n",
    "            pass\n",
    "        elif lst[i-1]==1:\n",
    "            term+='x'+str(i)+'.'\n",
    "        else:\n",
    "            term+='x'+str(i)+'^'+str(lst[i-1])+'.'\n",
    "    \n",
    "    return term[:-1]"
   ]
  },
  {
   "cell_type": "code",
   "execution_count": 4,
   "metadata": {
    "ExecuteTime": {
     "end_time": "2020-05-28T14:05:47.137433Z",
     "start_time": "2020-05-28T14:05:47.001333Z"
    }
   },
   "outputs": [
    {
     "data": {
      "text/plain": [
       "'x1.x2.x3^2.x5'"
      ]
     },
     "execution_count": 4,
     "metadata": {},
     "output_type": "execute_result"
    }
   ],
   "source": [
    "gen_single_term([1,1,2,0,1])"
   ]
  },
  {
   "cell_type": "code",
   "execution_count": 5,
   "metadata": {
    "ExecuteTime": {
     "end_time": "2020-05-28T14:05:47.265322Z",
     "start_time": "2020-05-28T14:05:47.145327Z"
    }
   },
   "outputs": [],
   "source": [
    "def count_symbol(lst):\n",
    "    syms = set(lst)\n",
    "    syms_dict={}\n",
    "    term_lst=[]\n",
    "    for s in syms:\n",
    "        syms_dict[s]=lst.count(s)\n",
    "    \n",
    "    for k,v in syms_dict.items():\n",
    "        if v!=1:\n",
    "            term_lst.append(str(v)+'.'+k)\n",
    "        else:\n",
    "            term_lst.append(k)\n",
    "    \n",
    "    return term_lst"
   ]
  },
  {
   "cell_type": "code",
   "execution_count": 6,
   "metadata": {
    "ExecuteTime": {
     "end_time": "2020-05-28T14:05:47.405325Z",
     "start_time": "2020-05-28T14:05:47.269322Z"
    }
   },
   "outputs": [],
   "source": [
    "def gen_multinomial(n_features=5,max_power=5,max_terms=10,fixed_terms=None,coefficients=True,\n",
    "                   prob_negative_sign=0.3):\n",
    "    \"\"\"\n",
    "    Generates multinomial expression.\n",
    "    n_features: Number of independent variables\n",
    "    max_power: Maximum exponent each terms can be raised to. A random power will be chosen up to this maximum.\n",
    "    max_terms: Maximum number of terms. A random number of terms will be chosen up to this maximum.\n",
    "    fixed_terms: Attempt will be made to generate only this many terms. Sometimes does not work.\n",
    "    coefficients (boolean): Adds (or does not) random integer coefficients in front of the terms.\n",
    "    prob_negative_sign: Probability of putting a negative term. \n",
    "                        Each term's sign wil be chosen randomly based on this probability\n",
    "    \"\"\"\n",
    "    import numpy as np\n",
    "    eqn=''\n",
    "    eqn_terms=[]\n",
    "    \n",
    "    if fixed_terms!=None:\n",
    "        n_terms=fixed_terms\n",
    "    else:\n",
    "        n_terms=np.random.randint(2,max_terms+1)\n",
    "    \n",
    "    for i in range(n_terms):\n",
    "        power=np.random.randint(1,max_power+1)\n",
    "        #power=max_power\n",
    "        power_lst=random_binning(power,n_features)\n",
    "        term=gen_single_term(power_lst)\n",
    "        if coefficients:\n",
    "            coeff=np.random.randint(1,11)\n",
    "            if coeff!=1:\n",
    "                coeff=str(coeff)\n",
    "                term=coeff+'.'+term\n",
    "        eqn_terms.append(term)\n",
    "    \n",
    "    eqn_terms=count_symbol(eqn_terms)\n",
    "    \n",
    "    for e in eqn_terms:\n",
    "        eqn+=e\n",
    "        sign=np.random.choice(['+','-'],p=[prob_negative_sign,1-prob_negative_sign])\n",
    "        eqn= eqn+' '+sign+' '\n",
    "      \n",
    "    return eqn[:-3]"
   ]
  },
  {
   "cell_type": "code",
   "execution_count": 7,
   "metadata": {
    "ExecuteTime": {
     "end_time": "2020-05-28T14:05:47.588330Z",
     "start_time": "2020-05-28T14:05:47.412323Z"
    }
   },
   "outputs": [
    {
     "data": {
      "text/plain": [
       "'8.x2 - 3.x2.x4^2 - 2.x1.x3.x4 - 9.x2^4 - 4.x1^3.x5^2 - 3.x2.x3'"
      ]
     },
     "execution_count": 7,
     "metadata": {},
     "output_type": "execute_result"
    }
   ],
   "source": [
    "gen_multinomial(coefficients=True)"
   ]
  },
  {
   "cell_type": "code",
   "execution_count": 8,
   "metadata": {
    "ExecuteTime": {
     "end_time": "2020-05-28T14:05:51.275325Z",
     "start_time": "2020-05-28T14:05:51.267388Z"
    }
   },
   "outputs": [],
   "source": [
    "def make_equation_system(n_samples=10,n_features=5,max_power=5,max_terms=10,\n",
    "                               fixed_terms=None,coefficients=False,prob_negative_sign=0.3):\n",
    "    \"\"\"\n",
    "    Generates multiple samples of multinomials for constructing a system of equations\n",
    "    \"\"\"\n",
    "    regressions=[]\n",
    "    for i in range(n_samples):\n",
    "        regressions.append(gen_multinomial(n_features=n_features,max_power=max_power,\n",
    "                                           max_terms=max_terms,fixed_terms=fixed_terms,\n",
    "                                           coefficients=coefficients,prob_negative_sign=prob_negative_sign))\n",
    "    \n",
    "    return regressions"
   ]
  },
  {
   "cell_type": "code",
   "execution_count": 9,
   "metadata": {
    "ExecuteTime": {
     "end_time": "2020-05-28T14:05:52.967470Z",
     "start_time": "2020-05-28T14:05:51.742415Z"
    }
   },
   "outputs": [
    {
     "data": {
      "text/plain": [
       "['9.x1^2.x2 - 10.x1 + 4.x1 + 2.x1.x2.x3',\n",
       " 'x1 + 6.x1 - 4.x2.x3^2 - 8.x1^2.x4',\n",
       " '4.x2.x3 + 2.2.x1^2.x2 - 2.x1',\n",
       " '6.x1^2.x3 + x3 + x1^3 + 9.x1',\n",
       " '2.x1.x3^2 - 9.x1^2.x2 + 9.x1^2 - 7.x1^3',\n",
       " '10.x1^3 + x2 - 4.x1 - 7.x2',\n",
       " '10.x2^2.x4 - 8.x1.x4 - x4 + 10.x3.x4',\n",
       " '9.x1^2 + 10.x1 - 10.x1^2 + x1.x3',\n",
       " '4.x1^3 + 8.x3 - 3.x2 - 10.x1.x2',\n",
       " '5.x1^2 - 5.x1^3 - 2.x1^3 - 5.x3']"
      ]
     },
     "execution_count": 9,
     "metadata": {},
     "output_type": "execute_result"
    }
   ],
   "source": [
    "make_equation_system(n_samples=10,n_features=4,max_power=3,max_terms=8,fixed_terms=4,\n",
    "                     coefficients=True,prob_negative_sign=0.5)"
   ]
  },
  {
   "cell_type": "markdown",
   "metadata": {},
   "source": [
    "### Evaluate a polynomial string"
   ]
  },
  {
   "cell_type": "code",
   "execution_count": 10,
   "metadata": {
    "ExecuteTime": {
     "end_time": "2020-05-28T14:06:07.673467Z",
     "start_time": "2020-05-28T14:05:53.849396Z"
    }
   },
   "outputs": [],
   "source": [
    "from sympy import *"
   ]
  },
  {
   "cell_type": "code",
   "execution_count": 11,
   "metadata": {
    "ExecuteTime": {
     "end_time": "2020-05-28T14:06:07.714744Z",
     "start_time": "2020-05-28T14:06:07.688466Z"
    }
   },
   "outputs": [],
   "source": [
    "def symbolize(s):\n",
    "    \"\"\"\n",
    "    Converts a a string (equation) to a SymPy symbol object\n",
    "    \"\"\"\n",
    "    from sympy import sympify\n",
    "    s1=s.replace('.','*')\n",
    "    s2=s1.replace('^','**')\n",
    "    s3=sympify(s2)\n",
    "    \n",
    "    return(s3)"
   ]
  },
  {
   "cell_type": "code",
   "execution_count": 12,
   "metadata": {
    "ExecuteTime": {
     "end_time": "2020-05-28T14:06:07.871518Z",
     "start_time": "2020-05-28T14:06:07.727611Z"
    }
   },
   "outputs": [],
   "source": [
    "def eval_multinomial(s,vals=None,symbolic_eval=False):\n",
    "    \"\"\"\n",
    "    Evaluates polynomial at vals.\n",
    "    vals can be simple list, dictionary, or tuple of values.\n",
    "    vals can also contain symbols instead of real values provided those symbols have been declared before using SymPy\n",
    "    \"\"\"\n",
    "    from sympy import Symbol,sympify,symbols\n",
    "    \n",
    "    sym_s=symbolize(s)\n",
    "    sym_set=sym_s.atoms(Symbol)\n",
    "    sym_lst=[]\n",
    "    for s in sym_set:\n",
    "        sym_lst.append(str(s))\n",
    "    sym_lst.sort()\n",
    "    if symbolic_eval==False and len(sym_set)!=len(vals):\n",
    "        print(\"Length of the input values did not match number of variables and symbolic evaluation is not selected\")\n",
    "        return None\n",
    "    else:\n",
    "        if type(vals)==list:\n",
    "            sub=list(zip(sym_lst,vals))\n",
    "        elif type(vals)==dict:\n",
    "            l=list(vals.keys())\n",
    "            l.sort()\n",
    "            lst=[]\n",
    "            for i in l:\n",
    "                lst.append(vals[i])\n",
    "            sub=list(zip(sym_lst,lst))\n",
    "        elif type(vals)==tuple:\n",
    "            sub=list(zip(sym_lst,list(vals)))\n",
    "        result=sym_s.subs(sub)\n",
    "    \n",
    "    return result"
   ]
  },
  {
   "cell_type": "code",
   "execution_count": 13,
   "metadata": {
    "ExecuteTime": {
     "end_time": "2020-05-28T14:06:10.038527Z",
     "start_time": "2020-05-28T14:06:10.032455Z"
    }
   },
   "outputs": [],
   "source": [
    "s1=gen_multinomial(fixed_terms=5,coefficients=True)"
   ]
  },
  {
   "cell_type": "code",
   "execution_count": 14,
   "metadata": {
    "ExecuteTime": {
     "end_time": "2020-05-28T14:06:10.411458Z",
     "start_time": "2020-05-28T14:06:10.404530Z"
    }
   },
   "outputs": [
    {
     "data": {
      "text/plain": [
       "'4.x1^2.x5^3 + 2.x2.x3^3 - 3.x3^2.x5^2 + 6.x1^2.x2 + 10.x2.x3^2.x4^2'"
      ]
     },
     "execution_count": 14,
     "metadata": {},
     "output_type": "execute_result"
    }
   ],
   "source": [
    "s1"
   ]
  },
  {
   "cell_type": "code",
   "execution_count": 15,
   "metadata": {
    "ExecuteTime": {
     "end_time": "2020-05-28T14:06:10.825464Z",
     "start_time": "2020-05-28T14:06:10.774515Z"
    }
   },
   "outputs": [
    {
     "data": {
      "text/latex": [
       "$\\displaystyle 91$"
      ],
      "text/plain": [
       "91"
      ]
     },
     "execution_count": 15,
     "metadata": {},
     "output_type": "execute_result"
    }
   ],
   "source": [
    "eval_multinomial(s1,{'x1':2,'x3':1,'x4':0,'x2':3,'x5':1},symbolic_eval=True)"
   ]
  },
  {
   "cell_type": "code",
   "execution_count": 16,
   "metadata": {
    "ExecuteTime": {
     "end_time": "2020-05-28T14:06:15.543607Z",
     "start_time": "2020-05-28T14:06:15.530462Z"
    }
   },
   "outputs": [
    {
     "name": "stdout",
     "output_type": "stream",
     "text": [
      "Length of the input values did not match number of variables and symbolic evaluation is not selected\n"
     ]
    }
   ],
   "source": [
    "vals=(2,3,1)\n",
    "eval_multinomial(s1,vals)"
   ]
  },
  {
   "cell_type": "code",
   "execution_count": 17,
   "metadata": {
    "ExecuteTime": {
     "end_time": "2020-05-28T14:06:16.918503Z",
     "start_time": "2020-05-28T14:06:15.880456Z"
    }
   },
   "outputs": [
    {
     "data": {
      "text/latex": [
       "$\\displaystyle 200 x + 16 y^{3} - 12 y^{2}$"
      ],
      "text/plain": [
       "200*x + 16*y**3 - 12*y**2"
      ]
     },
     "execution_count": 17,
     "metadata": {},
     "output_type": "execute_result"
    }
   ],
   "source": [
    "from sympy import symbols\n",
    "x,y=symbols('x y')\n",
    "vals=[2,x,2,2,y]\n",
    "eval_multinomial(s1,vals,symbolic_eval=True)"
   ]
  },
  {
   "cell_type": "markdown",
   "metadata": {},
   "source": [
    "### Pretty printing and LaTeX format output"
   ]
  },
  {
   "cell_type": "code",
   "execution_count": 18,
   "metadata": {
    "ExecuteTime": {
     "end_time": "2020-05-28T14:06:17.477456Z",
     "start_time": "2020-05-28T14:06:17.469456Z"
    }
   },
   "outputs": [],
   "source": [
    "def pretty_multinomial(n_features=5,max_power=5,max_terms=10,fixed_terms=None,coefficients=False):\n",
    "    from sympy import init_printing\n",
    "    init_printing()\n",
    "    s=gen_multinomial(n_features=n_features,max_power=max_power,max_terms=max_terms,\n",
    "                      fixed_terms=fixed_terms,coefficients=coefficients)\n",
    "    sym_s=symbolize(s)\n",
    "    return(sym_s)"
   ]
  },
  {
   "cell_type": "code",
   "execution_count": 19,
   "metadata": {
    "ExecuteTime": {
     "end_time": "2020-05-28T14:06:21.131450Z",
     "start_time": "2020-05-28T14:06:19.365452Z"
    }
   },
   "outputs": [
    {
     "data": {
      "image/png": "[encoded data removed]",
      "text/latex": [
       "$\\displaystyle 2 x_{1}^{4} x_{2} - 6 x_{1}^{3} x_{2} x_{5} + 8 x_{1}^{2} x_{2} x_{3} - 10 x_{1} x_{2}^{3}$"
      ],
      "text/plain": [
       "    4          3             2                 3\n",
       "2⋅x₁ ⋅x₂ - 6⋅x₁ ⋅x₂⋅x₅ + 8⋅x₁ ⋅x₂⋅x₃ - 10⋅x₁⋅x₂ "
      ]
     },
     "execution_count": 19,
     "metadata": {},
     "output_type": "execute_result"
    }
   ],
   "source": [
    "pretty_multinomial(coefficients=True,fixed_terms=4)"
   ]
  },
  {
   "cell_type": "code",
   "execution_count": 20,
   "metadata": {
    "ExecuteTime": {
     "end_time": "2020-05-28T14:06:22.793689Z",
     "start_time": "2020-05-28T14:06:22.786525Z"
    }
   },
   "outputs": [],
   "source": [
    "def latex_multinomial(n_features=5,max_power=5,max_terms=10,fixed_terms=None,coefficients=False):\n",
    "    from sympy import latex\n",
    "    s=gen_multinomial(n_features=n_features,max_power=max_power,max_terms=max_terms,\n",
    "                      fixed_terms=fixed_terms,coefficients=coefficients)\n",
    "    sym_s=symbolize(s)\n",
    "    return(latex(sym_s))"
   ]
  },
  {
   "cell_type": "code",
   "execution_count": 21,
   "metadata": {
    "ExecuteTime": {
     "end_time": "2020-05-28T14:06:23.185563Z",
     "start_time": "2020-05-28T14:06:23.170557Z"
    }
   },
   "outputs": [
    {
     "data": {
      "text/plain": [
       "'- 10 x_{1}^{4} + 8 x_{1}^{2} x_{2} x_{5}^{2} - 2 x_{1}^{2} x_{3} + 6 x_{2}'"
      ]
     },
     "execution_count": 21,
     "metadata": {},
     "output_type": "execute_result"
    }
   ],
   "source": [
    "latex_multinomial(coefficients=True,fixed_terms=4)"
   ]
  },
  {
   "cell_type": "code",
   "execution_count": 23,
   "metadata": {
    "ExecuteTime": {
     "end_time": "2020-05-28T14:06:39.850364Z",
     "start_time": "2020-05-28T14:06:39.205401Z"
    }
   },
   "outputs": [
    {
     "data": {
      "image/png": "[encoded data removed]",
      "text/latex": [
       "$\\displaystyle \\left[ - 9 x_{1}^{5} - 8 x_{1}^{4} x_{2} + 7 x_{1}^{4} + 6 x_{1}^{3} - 8 x_{1} x_{2}^{3} - x_{1} x_{2} x_{3}^{2} - 6 x_{1}, \\  - 9 x_{1}^{4} + x_{1}^{3} - 2 x_{1}^{2} - x_{1} x_{2}^{3} - 6 x_{1} - 7 x_{2}^{3} + 7 x_{2} x_{5}^{2} - 17 x_{4}, \\  8 x_{3} + 6 x_{4}, \\  - 8 x_{1}^{3} x_{2} + 5 x_{1}^{3} x_{4} + 10 x_{1}^{3} - 9 x_{1}^{2} + 3 x_{1} x_{2} x_{4}^{2} - 9 x_{1} x_{3} x_{5}^{3} + 6 x_{1} x_{3} x_{5} - x_{1} - 7 x_{2}, \\  - 3 x_{1}^{5} - 4 x_{1}^{2} x_{2}^{2} x_{3} - 9 x_{1} x_{3}^{2} - 8 x_{1} x_{5} - 2 x_{3} x_{4}^{2} x_{5} - 5 x_{3}, \\  - 4 x_{1}^{4} - 6 x_{1}^{2} + 7 x_{1} x_{2} x_{5} - 5 x_{2}^{2} - 4 x_{2}\\right]$"
      ],
      "text/plain": [
       "⎡      5       4          4       3          3           2               4    \n",
       "⎣- 9⋅x₁  - 8⋅x₁ ⋅x₂ + 7⋅x₁  + 6⋅x₁  - 8⋅x₁⋅x₂  - x₁⋅x₂⋅x₃  - 6⋅x₁, - 9⋅x₁  + x\n",
       "\n",
       " 3       2        3              3          2                             3   \n",
       "₁  - 2⋅x₁  - x₁⋅x₂  - 6⋅x₁ - 7⋅x₂  + 7⋅x₂⋅x₅  - 17⋅x₄, 8⋅x₃ + 6⋅x₄, - 8⋅x₁ ⋅x₂\n",
       "\n",
       "       3           3       2             2             3                      \n",
       " + 5⋅x₁ ⋅x₄ + 10⋅x₁  - 9⋅x₁  + 3⋅x₁⋅x₂⋅x₄  - 9⋅x₁⋅x₃⋅x₅  + 6⋅x₁⋅x₃⋅x₅ - x₁ - 7\n",
       "\n",
       "           5       2   2             2                    2                  4\n",
       "⋅x₂, - 3⋅x₁  - 4⋅x₁ ⋅x₂ ⋅x₃ - 9⋅x₁⋅x₃  - 8⋅x₁⋅x₅ - 2⋅x₃⋅x₄ ⋅x₅ - 5⋅x₃, - 4⋅x₁ \n",
       "\n",
       "       2                    2       ⎤\n",
       " - 6⋅x₁  + 7⋅x₁⋅x₂⋅x₅ - 5⋅x₂  - 4⋅x₂⎦"
      ]
     },
     "execution_count": 23,
     "metadata": {},
     "output_type": "execute_result"
    }
   ],
   "source": [
    "lst=[]\n",
    "for i in range(6):\n",
    "    lst.append(pretty_multinomial(coefficients=True))\n",
    "lst"
   ]
  },
  {
   "cell_type": "code",
   "execution_count": 24,
   "metadata": {
    "ExecuteTime": {
     "end_time": "2020-05-28T14:06:45.395353Z",
     "start_time": "2020-05-28T14:06:45.298335Z"
    }
   },
   "outputs": [
    {
     "data": {
      "image/png": "[encoded data removed]",
      "text/latex": [
       "$\\displaystyle 4 x_{1}^{4} - 6 x_{1}^{2} - 7 x_{1} x_{2}$"
      ],
      "text/plain": [
       "    4       2          \n",
       "4⋅x₁  - 6⋅x₁  - 7⋅x₁⋅x₂"
      ]
     },
     "execution_count": 24,
     "metadata": {},
     "output_type": "execute_result"
    }
   ],
   "source": [
    "pretty_multinomial(n_features=2,max_power=4,coefficients=True)"
   ]
  },
  {
   "cell_type": "code",
   "execution_count": null,
   "metadata": {},
   "outputs": [],
   "source": []
  }
 ],
 "metadata": {
  "kernelspec": {
   "display_name": "Python 3",
   "language": "python",
   "name": "python3"
  },
  "language_info": {
   "codemirror_mode": {
    "name": "ipython",
    "version": 3
   },
   "file_extension": ".py",
   "mimetype": "text/x-python",
   "name": "python",
   "nbconvert_exporter": "python",
   "pygments_lexer": "ipython3",
   "version": "3.7.4"
  },
  "latex_envs": {
   "LaTeX_envs_menu_present": true,
   "autoclose": false,
   "autocomplete": true,
   "bibliofile": "biblio.bib",
   "cite_by": "apalike",
   "current_citInitial": 1,
   "eqLabelWithNumbers": true,
   "eqNumInitial": 1,
   "hotkeys": {
    "equation": "Ctrl-E",
    "itemize": "Ctrl-I"
   },
   "labels_anchors": false,
   "latex_user_defs": false,
   "report_style_numbering": false,
   "user_envs_cfg": false
  },
  "toc": {
   "base_numbering": 1,
   "nav_menu": {},
   "number_sections": false,
   "sideBar": true,
   "skip_h1_title": false,
   "title_cell": "Table of Contents",
   "title_sidebar": "Contents",
   "toc_cell": false,
   "toc_position": {},
   "toc_section_display": true,
   "toc_window_display": false
  }
 },
 "nbformat": 4,
 "nbformat_minor": 2
}
