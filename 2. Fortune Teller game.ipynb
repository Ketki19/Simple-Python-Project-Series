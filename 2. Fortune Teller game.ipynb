{
 "cells": [
  {
   "cell_type": "markdown",
   "metadata": {},
   "source": [
    "## Fortune Teller Game"
   ]
  },
  {
   "cell_type": "markdown",
   "metadata": {},
   "source": [
    "# Fortune Teller in Python"
   ]
  },
  {
   "cell_type": "code",
   "execution_count": 3,
   "metadata": {
    "ExecuteTime": {
     "end_time": "2020-05-11T18:14:42.136064Z",
     "start_time": "2020-05-11T18:14:42.128061Z"
    }
   },
   "outputs": [],
   "source": [
    "import random"
   ]
  },
  {
   "cell_type": "code",
   "execution_count": 4,
   "metadata": {
    "ExecuteTime": {
     "end_time": "2020-05-11T18:14:45.279339Z",
     "start_time": "2020-05-11T18:14:45.271484Z"
    }
   },
   "outputs": [
    {
     "name": "stdout",
     "output_type": "stream",
     "text": [
      "Welcome to the Fortune Teller!\n",
      "You will select a color and a number and I will tell you what the future holds for you!\n"
     ]
    }
   ],
   "source": [
    "answer = 'y'\n",
    "\n",
    "print('Welcome to the Fortune Teller!')\n",
    "print('You will select a color and a number and I will tell you what the future holds for you!')\n"
   ]
  },
  {
   "cell_type": "code",
   "execution_count": 2,
   "metadata": {
    "ExecuteTime": {
     "end_time": "2020-05-11T18:13:49.984639Z",
     "start_time": "2020-05-11T18:13:28.183073Z"
    }
   },
   "outputs": [
    {
     "name": "stdout",
     "output_type": "stream",
     "text": [
      "Select a colour [yellow, green, blue, red] blue\n",
      "Select a number [3, 4, 7, 8]7\n",
      "All your dreams will come true, just be patient!\n",
      "Play again? insert 'y' for YES or 'n' for NOy\n",
      "Select a colour [yellow, green, blue, red] yellow\n",
      "Select a number [1, 2, 5, 6]6\n",
      "You will become famous and everyone will love you!\n",
      "Play again? insert 'y' for YES or 'n' for NOn\n"
     ]
    }
   ],
   "source": [
    "while answer == 'y':\n",
    "    \n",
    "    color = input(\"Select a colour [yellow, green, blue, red] \")\n",
    "        \n",
    "    if color == \"yellow\" or color ==\"green\":\n",
    "        number = int(input(\"Select a number [1, 2, 5, 6]\"))\n",
    "        if number == 1:\n",
    "              print(\"Worried about your future career? Don't worry. You'll 100% get what you want, be patient!\")\n",
    "        elif number == 2:\n",
    "              print(\"You will become a millionaire at the age of 35!\")\n",
    "        elif number == 5:\n",
    "              print(\"You will have a great family with 10 kids!\")\n",
    "        elif number == 6:\n",
    "              print(\"You will become famous and everyone will love you!\")\n",
    "        else:\n",
    "              print(\"Numbers 1, 2, 5, 6 are the only numbers allowed\")\n",
    "    \n",
    "    elif color == \"blue\" or color == \"red\":\n",
    "        number = int(input(\"Select a number [3, 4, 7, 8]\"))\n",
    "        if number == 3:\n",
    "              print(\"You will live a happy life for 100 years at least!\")\n",
    "        elif number == 4:\n",
    "              print(\"You will become a successful doctor one day!\")\n",
    "        elif number == 7:\n",
    "              print(\"All your dreams will come true, just be patient!\")\n",
    "        elif number == 8:\n",
    "              print(\"You're lucky, You will have it all one day!\")\n",
    "        else:\n",
    "              print(\"Numbers 3, 4, 7, 8 are the only numbers allowed\")\n",
    "    else:\n",
    "        print(\"Colors [yellow, green, blue, red] are only allowed\")\n",
    "    \n",
    "    answer = input(\"Play again? insert 'y' for YES or 'n' for NO\")\n"
   ]
  },
  {
   "cell_type": "markdown",
   "metadata": {},
   "source": [
    "# Entire Code"
   ]
  },
  {
   "cell_type": "code",
   "execution_count": 12,
   "metadata": {
    "ExecuteTime": {
     "end_time": "2020-05-11T18:41:05.083557Z",
     "start_time": "2020-05-11T18:40:47.615913Z"
    }
   },
   "outputs": [
    {
     "name": "stdout",
     "output_type": "stream",
     "text": [
      "Welcome to the Fortune Teller!\n",
      "You will select a color and a number and I will tell you what the future holds for you!\n",
      "Select a colour [yellow, green, blue, red] red\n",
      "Select a number [3, 4, 7, 8]4\n",
      "You will become a successful doctor one day!\n",
      "Play again? insert 'y' for YES or 'n' for NO y\n",
      "Select a colour [yellow, green, blue, red] green\n",
      "Select a number [1, 2, 5, 6]2\n",
      "You will become a millionaire at the age of 35!\n",
      "Play again? insert 'y' for YES or 'n' for NO n\n"
     ]
    }
   ],
   "source": [
    "import random\n",
    "answer = 'y'\n",
    "print('Welcome to the Fortune Teller!')\n",
    "print('You will select a color and a number and I will tell you what the future holds for you!')\n",
    "while answer == 'y':\n",
    "    \n",
    "    color = input(\"Select a colour [yellow, green, blue, red] \")\n",
    "        \n",
    "    if color == \"yellow\" or color ==\"green\":\n",
    "        number = int(input(\"Select a number [1, 2, 5, 6]\"))\n",
    "        if number == 1:\n",
    "              print(\"Worried about your future career? Don't worry. You'll 100% get what you want, be patient!\")\n",
    "        elif number == 2:\n",
    "              print(\"You will become a millionaire at the age of 35!\")\n",
    "        elif number == 5:\n",
    "              print(\"You will have a great family with 10 kids!\")\n",
    "        elif number == 6:\n",
    "              print(\"You will become famous and everyone will love you!\")\n",
    "        else:\n",
    "              print(\"Numbers 1, 2, 5, 6 are the only numbers allowed\")\n",
    "    \n",
    "    elif color == \"blue\" or color == \"red\":\n",
    "        number = int(input(\"Select a number [3, 4, 7, 8]\"))\n",
    "        if number == 3:\n",
    "              print(\"You will live a happy life for 100 years at least!\")\n",
    "        elif number == 4:\n",
    "              print(\"You will become a successful doctor one day!\")\n",
    "        elif number == 7:\n",
    "              print(\"All your dreams will come true, just be patient!\")\n",
    "        elif number == 8:\n",
    "              print(\"You're lucky, You will have it all one day!\")\n",
    "        else:\n",
    "              print(\"Numbers 3, 4, 7, 8 are the only numbers allowed\")\n",
    "    else:\n",
    "        print(\"Colors [yellow, green, blue, red] are only allowed\")\n",
    "    \n",
    "    answer = input(\"Play again? insert 'y' for YES or 'n' for NO \")"
   ]
  },
  {
   "cell_type": "code",
   "execution_count": null,
   "metadata": {},
   "outputs": [],
   "source": []
  }
 ],
 "metadata": {
  "kernelspec": {
   "display_name": "Python 3",
   "language": "python",
   "name": "python3"
  },
  "language_info": {
   "codemirror_mode": {
    "name": "ipython",
    "version": 3
   },
   "file_extension": ".py",
   "mimetype": "text/x-python",
   "name": "python",
   "nbconvert_exporter": "python",
   "pygments_lexer": "ipython3",
   "version": "3.7.4"
  },
  "toc": {
   "base_numbering": 1,
   "nav_menu": {},
   "number_sections": false,
   "sideBar": true,
   "skip_h1_title": false,
   "title_cell": "Table of Contents",
   "title_sidebar": "Contents",
   "toc_cell": false,
   "toc_position": {},
   "toc_section_display": true,
   "toc_window_display": false
  }
 },
 "nbformat": 4,
 "nbformat_minor": 2
}
